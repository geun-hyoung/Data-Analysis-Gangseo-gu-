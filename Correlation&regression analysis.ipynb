{
  "nbformat": 4,
  "nbformat_minor": 0,
  "metadata": {
    "colab": {
      "provenance": [],
      "include_colab_link": true
    },
    "kernelspec": {
      "name": "python3",
      "display_name": "Python 3"
    },
    "language_info": {
      "name": "python"
    }
  },
  "cells": [
    {
      "cell_type": "markdown",
      "metadata": {
        "id": "view-in-github",
        "colab_type": "text"
      },
      "source": [
        "<a href=\"https://colab.research.google.com/github/geun-hyoung/DataAnalysis_Gangseo-gu/blob/main/Correlation%26regression%20analysis.ipynb\" target=\"_parent\"><img src=\"https://colab.research.google.com/assets/colab-badge.svg\" alt=\"Open In Colab\"/></a>"
      ]
    },
    {
      "cell_type": "markdown",
      "source": [
        "## 내부 라이브러리"
      ],
      "metadata": {
        "id": "EFkyZk-yzF6e"
      }
    },
    {
      "cell_type": "code",
      "source": [
        "from google.colab import drive\n",
        "drive.mount('/content/drive') # Connect to drive\n",
        "\n",
        "import pandas as pd\n",
        "import numpy as np\n",
        "\n",
        "import seaborn as sns\n",
        "\n",
        "import matplotlib.pyplot as plt"
      ],
      "metadata": {
        "colab": {
          "base_uri": "https://localhost:8080/"
        },
        "id": "pH6jlYjbzMou",
        "outputId": "dde430d0-9a62-4486-d610-b444a82e0900"
      },
      "execution_count": 1,
      "outputs": [
        {
          "output_type": "stream",
          "name": "stdout",
          "text": [
            "Mounted at /content/drive\n"
          ]
        }
      ]
    },
    {
      "cell_type": "markdown",
      "source": [
        "### 데이터 로드 및 전처리"
      ],
      "metadata": {
        "id": "WhOuL8t9pgKP"
      }
    },
    {
      "cell_type": "code",
      "source": [
        "final_df = pd.read_csv('/content/drive/MyDrive/강서구공모전/fianl_usingdata.csv', encoding = 'cp949')"
      ],
      "metadata": {
        "id": "qmtcRmwfpnVl"
      },
      "execution_count": 2,
      "outputs": []
    },
    {
      "cell_type": "code",
      "source": [
        "df_1 = final_df.drop(['area'], axis = 1)    # area는 행정동으로 인덱스 값으로 대체 후 전처리"
      ],
      "metadata": {
        "id": "RID2FOOSqyZD"
      },
      "execution_count": 3,
      "outputs": []
    },
    {
      "cell_type": "code",
      "source": [
        "df_1.head()"
      ],
      "metadata": {
        "colab": {
          "base_uri": "https://localhost:8080/",
          "height": 206
        },
        "id": "vkzFuXJ885KG",
        "outputId": "1f4b3cf5-daa6-4004-a929-1ac6990d4ce1"
      },
      "execution_count": 4,
      "outputs": [
        {
          "output_type": "execute_result",
          "data": {
            "text/plain": [
              "   COVID_19  Social_welfare_facilities  pharmacy  hospital  \\\n",
              "0      5417                          1        14         6   \n",
              "1      8569                         33        37        12   \n",
              "2     18515                         76        89         6   \n",
              "3      8238                         19        29        20   \n",
              "4      3916                         10        35         1   \n",
              "\n",
              "   population_density  elderly_person  disorder  \n",
              "0         23924.00000        0.175549  0.025397  \n",
              "1         31860.00000        0.265684  0.070133  \n",
              "2         32520.58824        0.255945  0.041920  \n",
              "3         10151.45161        0.269628  0.078562  \n",
              "4         12325.00000        0.213701  0.041661  "
            ],
            "text/html": [
              "\n",
              "  <div id=\"df-e1be76b6-e446-4da2-895c-7402a5119819\">\n",
              "    <div class=\"colab-df-container\">\n",
              "      <div>\n",
              "<style scoped>\n",
              "    .dataframe tbody tr th:only-of-type {\n",
              "        vertical-align: middle;\n",
              "    }\n",
              "\n",
              "    .dataframe tbody tr th {\n",
              "        vertical-align: top;\n",
              "    }\n",
              "\n",
              "    .dataframe thead th {\n",
              "        text-align: right;\n",
              "    }\n",
              "</style>\n",
              "<table border=\"1\" class=\"dataframe\">\n",
              "  <thead>\n",
              "    <tr style=\"text-align: right;\">\n",
              "      <th></th>\n",
              "      <th>COVID_19</th>\n",
              "      <th>Social_welfare_facilities</th>\n",
              "      <th>pharmacy</th>\n",
              "      <th>hospital</th>\n",
              "      <th>population_density</th>\n",
              "      <th>elderly_person</th>\n",
              "      <th>disorder</th>\n",
              "    </tr>\n",
              "  </thead>\n",
              "  <tbody>\n",
              "    <tr>\n",
              "      <th>0</th>\n",
              "      <td>5417</td>\n",
              "      <td>1</td>\n",
              "      <td>14</td>\n",
              "      <td>6</td>\n",
              "      <td>23924.00000</td>\n",
              "      <td>0.175549</td>\n",
              "      <td>0.025397</td>\n",
              "    </tr>\n",
              "    <tr>\n",
              "      <th>1</th>\n",
              "      <td>8569</td>\n",
              "      <td>33</td>\n",
              "      <td>37</td>\n",
              "      <td>12</td>\n",
              "      <td>31860.00000</td>\n",
              "      <td>0.265684</td>\n",
              "      <td>0.070133</td>\n",
              "    </tr>\n",
              "    <tr>\n",
              "      <th>2</th>\n",
              "      <td>18515</td>\n",
              "      <td>76</td>\n",
              "      <td>89</td>\n",
              "      <td>6</td>\n",
              "      <td>32520.58824</td>\n",
              "      <td>0.255945</td>\n",
              "      <td>0.041920</td>\n",
              "    </tr>\n",
              "    <tr>\n",
              "      <th>3</th>\n",
              "      <td>8238</td>\n",
              "      <td>19</td>\n",
              "      <td>29</td>\n",
              "      <td>20</td>\n",
              "      <td>10151.45161</td>\n",
              "      <td>0.269628</td>\n",
              "      <td>0.078562</td>\n",
              "    </tr>\n",
              "    <tr>\n",
              "      <th>4</th>\n",
              "      <td>3916</td>\n",
              "      <td>10</td>\n",
              "      <td>35</td>\n",
              "      <td>1</td>\n",
              "      <td>12325.00000</td>\n",
              "      <td>0.213701</td>\n",
              "      <td>0.041661</td>\n",
              "    </tr>\n",
              "  </tbody>\n",
              "</table>\n",
              "</div>\n",
              "      <button class=\"colab-df-convert\" onclick=\"convertToInteractive('df-e1be76b6-e446-4da2-895c-7402a5119819')\"\n",
              "              title=\"Convert this dataframe to an interactive table.\"\n",
              "              style=\"display:none;\">\n",
              "        \n",
              "  <svg xmlns=\"http://www.w3.org/2000/svg\" height=\"24px\"viewBox=\"0 0 24 24\"\n",
              "       width=\"24px\">\n",
              "    <path d=\"M0 0h24v24H0V0z\" fill=\"none\"/>\n",
              "    <path d=\"M18.56 5.44l.94 2.06.94-2.06 2.06-.94-2.06-.94-.94-2.06-.94 2.06-2.06.94zm-11 1L8.5 8.5l.94-2.06 2.06-.94-2.06-.94L8.5 2.5l-.94 2.06-2.06.94zm10 10l.94 2.06.94-2.06 2.06-.94-2.06-.94-.94-2.06-.94 2.06-2.06.94z\"/><path d=\"M17.41 7.96l-1.37-1.37c-.4-.4-.92-.59-1.43-.59-.52 0-1.04.2-1.43.59L10.3 9.45l-7.72 7.72c-.78.78-.78 2.05 0 2.83L4 21.41c.39.39.9.59 1.41.59.51 0 1.02-.2 1.41-.59l7.78-7.78 2.81-2.81c.8-.78.8-2.07 0-2.86zM5.41 20L4 18.59l7.72-7.72 1.47 1.35L5.41 20z\"/>\n",
              "  </svg>\n",
              "      </button>\n",
              "      \n",
              "  <style>\n",
              "    .colab-df-container {\n",
              "      display:flex;\n",
              "      flex-wrap:wrap;\n",
              "      gap: 12px;\n",
              "    }\n",
              "\n",
              "    .colab-df-convert {\n",
              "      background-color: #E8F0FE;\n",
              "      border: none;\n",
              "      border-radius: 50%;\n",
              "      cursor: pointer;\n",
              "      display: none;\n",
              "      fill: #1967D2;\n",
              "      height: 32px;\n",
              "      padding: 0 0 0 0;\n",
              "      width: 32px;\n",
              "    }\n",
              "\n",
              "    .colab-df-convert:hover {\n",
              "      background-color: #E2EBFA;\n",
              "      box-shadow: 0px 1px 2px rgba(60, 64, 67, 0.3), 0px 1px 3px 1px rgba(60, 64, 67, 0.15);\n",
              "      fill: #174EA6;\n",
              "    }\n",
              "\n",
              "    [theme=dark] .colab-df-convert {\n",
              "      background-color: #3B4455;\n",
              "      fill: #D2E3FC;\n",
              "    }\n",
              "\n",
              "    [theme=dark] .colab-df-convert:hover {\n",
              "      background-color: #434B5C;\n",
              "      box-shadow: 0px 1px 3px 1px rgba(0, 0, 0, 0.15);\n",
              "      filter: drop-shadow(0px 1px 2px rgba(0, 0, 0, 0.3));\n",
              "      fill: #FFFFFF;\n",
              "    }\n",
              "  </style>\n",
              "\n",
              "      <script>\n",
              "        const buttonEl =\n",
              "          document.querySelector('#df-e1be76b6-e446-4da2-895c-7402a5119819 button.colab-df-convert');\n",
              "        buttonEl.style.display =\n",
              "          google.colab.kernel.accessAllowed ? 'block' : 'none';\n",
              "\n",
              "        async function convertToInteractive(key) {\n",
              "          const element = document.querySelector('#df-e1be76b6-e446-4da2-895c-7402a5119819');\n",
              "          const dataTable =\n",
              "            await google.colab.kernel.invokeFunction('convertToInteractive',\n",
              "                                                     [key], {});\n",
              "          if (!dataTable) return;\n",
              "\n",
              "          const docLinkHtml = 'Like what you see? Visit the ' +\n",
              "            '<a target=\"_blank\" href=https://colab.research.google.com/notebooks/data_table.ipynb>data table notebook</a>'\n",
              "            + ' to learn more about interactive tables.';\n",
              "          element.innerHTML = '';\n",
              "          dataTable['output_type'] = 'display_data';\n",
              "          await google.colab.output.renderOutput(dataTable, element);\n",
              "          const docLink = document.createElement('div');\n",
              "          docLink.innerHTML = docLinkHtml;\n",
              "          element.appendChild(docLink);\n",
              "        }\n",
              "      </script>\n",
              "    </div>\n",
              "  </div>\n",
              "  "
            ]
          },
          "metadata": {},
          "execution_count": 4
        }
      ]
    },
    {
      "cell_type": "code",
      "source": [
        "from sklearn.preprocessing import StandardScaler, MinMaxScaler\n",
        "scaler = MinMaxScaler()\n",
        "x_scaled = pd.DataFrame(scaler.fit_transform(df_1), \n",
        "                        columns = ['COVID_19', 'Social_welfare_facilities', 'pharmacy', 'hospital',\n",
        "                                   'population_density', 'elderly_person', 'disorder'])"
      ],
      "metadata": {
        "id": "uHtnpulL5dZe"
      },
      "execution_count": 7,
      "outputs": []
    },
    {
      "cell_type": "code",
      "source": [
        "x_scaled"
      ],
      "metadata": {
        "colab": {
          "base_uri": "https://localhost:8080/",
          "height": 300
        },
        "id": "fqFXlCNN80nc",
        "outputId": "0ce636ca-2ba0-4564-be78-cdbc8a7ad562"
      },
      "execution_count": 8,
      "outputs": [
        {
          "output_type": "execute_result",
          "data": {
            "text/plain": [
              "   COVID_19  Social_welfare_facilities  pharmacy  hospital  \\\n",
              "0  0.118277                   0.000000  0.127907      0.30   \n",
              "1  0.330461                   0.426667  0.395349      0.60   \n",
              "2  1.000000                   1.000000  1.000000      0.30   \n",
              "3  0.308179                   0.240000  0.302326      1.00   \n",
              "4  0.017233                   0.120000  0.372093      0.05   \n",
              "5  0.084349                   0.013333  0.000000      0.00   \n",
              "6  0.000000                   0.120000  0.093023      0.25   \n",
              "7  0.343386                   0.360000  0.325581      0.15   \n",
              "\n",
              "   population_density  elderly_person  disorder  \n",
              "0            0.710314        0.000000  0.000000  \n",
              "1            0.977740        0.819311  0.841453  \n",
              "2            1.000000        0.730780  0.310790  \n",
              "3            0.246211        0.855163  1.000000  \n",
              "4            0.319454        0.346791  0.305912  \n",
              "5            0.966687        0.320642  0.066130  \n",
              "6            0.000000        0.372527  0.345376  \n",
              "7            0.190645        1.000000  0.672930  "
            ],
            "text/html": [
              "\n",
              "  <div id=\"df-7b65c1f8-2427-46ad-81d2-87325b6bd149\">\n",
              "    <div class=\"colab-df-container\">\n",
              "      <div>\n",
              "<style scoped>\n",
              "    .dataframe tbody tr th:only-of-type {\n",
              "        vertical-align: middle;\n",
              "    }\n",
              "\n",
              "    .dataframe tbody tr th {\n",
              "        vertical-align: top;\n",
              "    }\n",
              "\n",
              "    .dataframe thead th {\n",
              "        text-align: right;\n",
              "    }\n",
              "</style>\n",
              "<table border=\"1\" class=\"dataframe\">\n",
              "  <thead>\n",
              "    <tr style=\"text-align: right;\">\n",
              "      <th></th>\n",
              "      <th>COVID_19</th>\n",
              "      <th>Social_welfare_facilities</th>\n",
              "      <th>pharmacy</th>\n",
              "      <th>hospital</th>\n",
              "      <th>population_density</th>\n",
              "      <th>elderly_person</th>\n",
              "      <th>disorder</th>\n",
              "    </tr>\n",
              "  </thead>\n",
              "  <tbody>\n",
              "    <tr>\n",
              "      <th>0</th>\n",
              "      <td>0.118277</td>\n",
              "      <td>0.000000</td>\n",
              "      <td>0.127907</td>\n",
              "      <td>0.30</td>\n",
              "      <td>0.710314</td>\n",
              "      <td>0.000000</td>\n",
              "      <td>0.000000</td>\n",
              "    </tr>\n",
              "    <tr>\n",
              "      <th>1</th>\n",
              "      <td>0.330461</td>\n",
              "      <td>0.426667</td>\n",
              "      <td>0.395349</td>\n",
              "      <td>0.60</td>\n",
              "      <td>0.977740</td>\n",
              "      <td>0.819311</td>\n",
              "      <td>0.841453</td>\n",
              "    </tr>\n",
              "    <tr>\n",
              "      <th>2</th>\n",
              "      <td>1.000000</td>\n",
              "      <td>1.000000</td>\n",
              "      <td>1.000000</td>\n",
              "      <td>0.30</td>\n",
              "      <td>1.000000</td>\n",
              "      <td>0.730780</td>\n",
              "      <td>0.310790</td>\n",
              "    </tr>\n",
              "    <tr>\n",
              "      <th>3</th>\n",
              "      <td>0.308179</td>\n",
              "      <td>0.240000</td>\n",
              "      <td>0.302326</td>\n",
              "      <td>1.00</td>\n",
              "      <td>0.246211</td>\n",
              "      <td>0.855163</td>\n",
              "      <td>1.000000</td>\n",
              "    </tr>\n",
              "    <tr>\n",
              "      <th>4</th>\n",
              "      <td>0.017233</td>\n",
              "      <td>0.120000</td>\n",
              "      <td>0.372093</td>\n",
              "      <td>0.05</td>\n",
              "      <td>0.319454</td>\n",
              "      <td>0.346791</td>\n",
              "      <td>0.305912</td>\n",
              "    </tr>\n",
              "    <tr>\n",
              "      <th>5</th>\n",
              "      <td>0.084349</td>\n",
              "      <td>0.013333</td>\n",
              "      <td>0.000000</td>\n",
              "      <td>0.00</td>\n",
              "      <td>0.966687</td>\n",
              "      <td>0.320642</td>\n",
              "      <td>0.066130</td>\n",
              "    </tr>\n",
              "    <tr>\n",
              "      <th>6</th>\n",
              "      <td>0.000000</td>\n",
              "      <td>0.120000</td>\n",
              "      <td>0.093023</td>\n",
              "      <td>0.25</td>\n",
              "      <td>0.000000</td>\n",
              "      <td>0.372527</td>\n",
              "      <td>0.345376</td>\n",
              "    </tr>\n",
              "    <tr>\n",
              "      <th>7</th>\n",
              "      <td>0.343386</td>\n",
              "      <td>0.360000</td>\n",
              "      <td>0.325581</td>\n",
              "      <td>0.15</td>\n",
              "      <td>0.190645</td>\n",
              "      <td>1.000000</td>\n",
              "      <td>0.672930</td>\n",
              "    </tr>\n",
              "  </tbody>\n",
              "</table>\n",
              "</div>\n",
              "      <button class=\"colab-df-convert\" onclick=\"convertToInteractive('df-7b65c1f8-2427-46ad-81d2-87325b6bd149')\"\n",
              "              title=\"Convert this dataframe to an interactive table.\"\n",
              "              style=\"display:none;\">\n",
              "        \n",
              "  <svg xmlns=\"http://www.w3.org/2000/svg\" height=\"24px\"viewBox=\"0 0 24 24\"\n",
              "       width=\"24px\">\n",
              "    <path d=\"M0 0h24v24H0V0z\" fill=\"none\"/>\n",
              "    <path d=\"M18.56 5.44l.94 2.06.94-2.06 2.06-.94-2.06-.94-.94-2.06-.94 2.06-2.06.94zm-11 1L8.5 8.5l.94-2.06 2.06-.94-2.06-.94L8.5 2.5l-.94 2.06-2.06.94zm10 10l.94 2.06.94-2.06 2.06-.94-2.06-.94-.94-2.06-.94 2.06-2.06.94z\"/><path d=\"M17.41 7.96l-1.37-1.37c-.4-.4-.92-.59-1.43-.59-.52 0-1.04.2-1.43.59L10.3 9.45l-7.72 7.72c-.78.78-.78 2.05 0 2.83L4 21.41c.39.39.9.59 1.41.59.51 0 1.02-.2 1.41-.59l7.78-7.78 2.81-2.81c.8-.78.8-2.07 0-2.86zM5.41 20L4 18.59l7.72-7.72 1.47 1.35L5.41 20z\"/>\n",
              "  </svg>\n",
              "      </button>\n",
              "      \n",
              "  <style>\n",
              "    .colab-df-container {\n",
              "      display:flex;\n",
              "      flex-wrap:wrap;\n",
              "      gap: 12px;\n",
              "    }\n",
              "\n",
              "    .colab-df-convert {\n",
              "      background-color: #E8F0FE;\n",
              "      border: none;\n",
              "      border-radius: 50%;\n",
              "      cursor: pointer;\n",
              "      display: none;\n",
              "      fill: #1967D2;\n",
              "      height: 32px;\n",
              "      padding: 0 0 0 0;\n",
              "      width: 32px;\n",
              "    }\n",
              "\n",
              "    .colab-df-convert:hover {\n",
              "      background-color: #E2EBFA;\n",
              "      box-shadow: 0px 1px 2px rgba(60, 64, 67, 0.3), 0px 1px 3px 1px rgba(60, 64, 67, 0.15);\n",
              "      fill: #174EA6;\n",
              "    }\n",
              "\n",
              "    [theme=dark] .colab-df-convert {\n",
              "      background-color: #3B4455;\n",
              "      fill: #D2E3FC;\n",
              "    }\n",
              "\n",
              "    [theme=dark] .colab-df-convert:hover {\n",
              "      background-color: #434B5C;\n",
              "      box-shadow: 0px 1px 3px 1px rgba(0, 0, 0, 0.15);\n",
              "      filter: drop-shadow(0px 1px 2px rgba(0, 0, 0, 0.3));\n",
              "      fill: #FFFFFF;\n",
              "    }\n",
              "  </style>\n",
              "\n",
              "      <script>\n",
              "        const buttonEl =\n",
              "          document.querySelector('#df-7b65c1f8-2427-46ad-81d2-87325b6bd149 button.colab-df-convert');\n",
              "        buttonEl.style.display =\n",
              "          google.colab.kernel.accessAllowed ? 'block' : 'none';\n",
              "\n",
              "        async function convertToInteractive(key) {\n",
              "          const element = document.querySelector('#df-7b65c1f8-2427-46ad-81d2-87325b6bd149');\n",
              "          const dataTable =\n",
              "            await google.colab.kernel.invokeFunction('convertToInteractive',\n",
              "                                                     [key], {});\n",
              "          if (!dataTable) return;\n",
              "\n",
              "          const docLinkHtml = 'Like what you see? Visit the ' +\n",
              "            '<a target=\"_blank\" href=https://colab.research.google.com/notebooks/data_table.ipynb>data table notebook</a>'\n",
              "            + ' to learn more about interactive tables.';\n",
              "          element.innerHTML = '';\n",
              "          dataTable['output_type'] = 'display_data';\n",
              "          await google.colab.output.renderOutput(dataTable, element);\n",
              "          const docLink = document.createElement('div');\n",
              "          docLink.innerHTML = docLinkHtml;\n",
              "          element.appendChild(docLink);\n",
              "        }\n",
              "      </script>\n",
              "    </div>\n",
              "  </div>\n",
              "  "
            ]
          },
          "metadata": {},
          "execution_count": 8
        }
      ]
    },
    {
      "cell_type": "code",
      "source": [
        "x = x_scaled.drop(['COVID_19'], axis = 1)\n",
        "y = x_scaled['COVID_19']"
      ],
      "metadata": {
        "id": "Wr6B1hKn8JLp"
      },
      "execution_count": 9,
      "outputs": []
    },
    {
      "cell_type": "markdown",
      "source": [
        "### 상관분석"
      ],
      "metadata": {
        "id": "RFOdWIOb8XbU"
      }
    },
    {
      "cell_type": "code",
      "source": [
        "corr = x_scaled.corr(method = 'pearson')\n",
        "corr"
      ],
      "metadata": {
        "id": "mnDyYna5tjtL",
        "outputId": "74c6f973-7a02-404f-a787-c9a15245af25",
        "colab": {
          "base_uri": "https://localhost:8080/",
          "height": 268
        }
      },
      "execution_count": 10,
      "outputs": [
        {
          "output_type": "execute_result",
          "data": {
            "text/plain": [
              "                           COVID_19  Social_welfare_facilities  pharmacy  \\\n",
              "COVID_19                   1.000000                   0.961389  0.912079   \n",
              "Social_welfare_facilities  0.961389                   1.000000  0.950222   \n",
              "pharmacy                   0.912079                   0.950222  1.000000   \n",
              "hospital                   0.221820                   0.174553  0.144782   \n",
              "population_density         0.455279                   0.363503  0.331017   \n",
              "elderly_person             0.534773                   0.595987  0.471096   \n",
              "disorder                   0.200535                   0.268949  0.196701   \n",
              "\n",
              "                           hospital  population_density  elderly_person  \\\n",
              "COVID_19                   0.221820            0.455279        0.534773   \n",
              "Social_welfare_facilities  0.174553            0.363503        0.595987   \n",
              "pharmacy                   0.144782            0.331017        0.471096   \n",
              "hospital                   1.000000           -0.075692        0.449155   \n",
              "population_density        -0.075692            1.000000       -0.099088   \n",
              "elderly_person             0.449155           -0.099088        1.000000   \n",
              "disorder                   0.761050           -0.276476        0.845071   \n",
              "\n",
              "                           disorder  \n",
              "COVID_19                   0.200535  \n",
              "Social_welfare_facilities  0.268949  \n",
              "pharmacy                   0.196701  \n",
              "hospital                   0.761050  \n",
              "population_density        -0.276476  \n",
              "elderly_person             0.845071  \n",
              "disorder                   1.000000  "
            ],
            "text/html": [
              "\n",
              "  <div id=\"df-709f6e2f-486b-440f-b717-2c7c41f383cc\">\n",
              "    <div class=\"colab-df-container\">\n",
              "      <div>\n",
              "<style scoped>\n",
              "    .dataframe tbody tr th:only-of-type {\n",
              "        vertical-align: middle;\n",
              "    }\n",
              "\n",
              "    .dataframe tbody tr th {\n",
              "        vertical-align: top;\n",
              "    }\n",
              "\n",
              "    .dataframe thead th {\n",
              "        text-align: right;\n",
              "    }\n",
              "</style>\n",
              "<table border=\"1\" class=\"dataframe\">\n",
              "  <thead>\n",
              "    <tr style=\"text-align: right;\">\n",
              "      <th></th>\n",
              "      <th>COVID_19</th>\n",
              "      <th>Social_welfare_facilities</th>\n",
              "      <th>pharmacy</th>\n",
              "      <th>hospital</th>\n",
              "      <th>population_density</th>\n",
              "      <th>elderly_person</th>\n",
              "      <th>disorder</th>\n",
              "    </tr>\n",
              "  </thead>\n",
              "  <tbody>\n",
              "    <tr>\n",
              "      <th>COVID_19</th>\n",
              "      <td>1.000000</td>\n",
              "      <td>0.961389</td>\n",
              "      <td>0.912079</td>\n",
              "      <td>0.221820</td>\n",
              "      <td>0.455279</td>\n",
              "      <td>0.534773</td>\n",
              "      <td>0.200535</td>\n",
              "    </tr>\n",
              "    <tr>\n",
              "      <th>Social_welfare_facilities</th>\n",
              "      <td>0.961389</td>\n",
              "      <td>1.000000</td>\n",
              "      <td>0.950222</td>\n",
              "      <td>0.174553</td>\n",
              "      <td>0.363503</td>\n",
              "      <td>0.595987</td>\n",
              "      <td>0.268949</td>\n",
              "    </tr>\n",
              "    <tr>\n",
              "      <th>pharmacy</th>\n",
              "      <td>0.912079</td>\n",
              "      <td>0.950222</td>\n",
              "      <td>1.000000</td>\n",
              "      <td>0.144782</td>\n",
              "      <td>0.331017</td>\n",
              "      <td>0.471096</td>\n",
              "      <td>0.196701</td>\n",
              "    </tr>\n",
              "    <tr>\n",
              "      <th>hospital</th>\n",
              "      <td>0.221820</td>\n",
              "      <td>0.174553</td>\n",
              "      <td>0.144782</td>\n",
              "      <td>1.000000</td>\n",
              "      <td>-0.075692</td>\n",
              "      <td>0.449155</td>\n",
              "      <td>0.761050</td>\n",
              "    </tr>\n",
              "    <tr>\n",
              "      <th>population_density</th>\n",
              "      <td>0.455279</td>\n",
              "      <td>0.363503</td>\n",
              "      <td>0.331017</td>\n",
              "      <td>-0.075692</td>\n",
              "      <td>1.000000</td>\n",
              "      <td>-0.099088</td>\n",
              "      <td>-0.276476</td>\n",
              "    </tr>\n",
              "    <tr>\n",
              "      <th>elderly_person</th>\n",
              "      <td>0.534773</td>\n",
              "      <td>0.595987</td>\n",
              "      <td>0.471096</td>\n",
              "      <td>0.449155</td>\n",
              "      <td>-0.099088</td>\n",
              "      <td>1.000000</td>\n",
              "      <td>0.845071</td>\n",
              "    </tr>\n",
              "    <tr>\n",
              "      <th>disorder</th>\n",
              "      <td>0.200535</td>\n",
              "      <td>0.268949</td>\n",
              "      <td>0.196701</td>\n",
              "      <td>0.761050</td>\n",
              "      <td>-0.276476</td>\n",
              "      <td>0.845071</td>\n",
              "      <td>1.000000</td>\n",
              "    </tr>\n",
              "  </tbody>\n",
              "</table>\n",
              "</div>\n",
              "      <button class=\"colab-df-convert\" onclick=\"convertToInteractive('df-709f6e2f-486b-440f-b717-2c7c41f383cc')\"\n",
              "              title=\"Convert this dataframe to an interactive table.\"\n",
              "              style=\"display:none;\">\n",
              "        \n",
              "  <svg xmlns=\"http://www.w3.org/2000/svg\" height=\"24px\"viewBox=\"0 0 24 24\"\n",
              "       width=\"24px\">\n",
              "    <path d=\"M0 0h24v24H0V0z\" fill=\"none\"/>\n",
              "    <path d=\"M18.56 5.44l.94 2.06.94-2.06 2.06-.94-2.06-.94-.94-2.06-.94 2.06-2.06.94zm-11 1L8.5 8.5l.94-2.06 2.06-.94-2.06-.94L8.5 2.5l-.94 2.06-2.06.94zm10 10l.94 2.06.94-2.06 2.06-.94-2.06-.94-.94-2.06-.94 2.06-2.06.94z\"/><path d=\"M17.41 7.96l-1.37-1.37c-.4-.4-.92-.59-1.43-.59-.52 0-1.04.2-1.43.59L10.3 9.45l-7.72 7.72c-.78.78-.78 2.05 0 2.83L4 21.41c.39.39.9.59 1.41.59.51 0 1.02-.2 1.41-.59l7.78-7.78 2.81-2.81c.8-.78.8-2.07 0-2.86zM5.41 20L4 18.59l7.72-7.72 1.47 1.35L5.41 20z\"/>\n",
              "  </svg>\n",
              "      </button>\n",
              "      \n",
              "  <style>\n",
              "    .colab-df-container {\n",
              "      display:flex;\n",
              "      flex-wrap:wrap;\n",
              "      gap: 12px;\n",
              "    }\n",
              "\n",
              "    .colab-df-convert {\n",
              "      background-color: #E8F0FE;\n",
              "      border: none;\n",
              "      border-radius: 50%;\n",
              "      cursor: pointer;\n",
              "      display: none;\n",
              "      fill: #1967D2;\n",
              "      height: 32px;\n",
              "      padding: 0 0 0 0;\n",
              "      width: 32px;\n",
              "    }\n",
              "\n",
              "    .colab-df-convert:hover {\n",
              "      background-color: #E2EBFA;\n",
              "      box-shadow: 0px 1px 2px rgba(60, 64, 67, 0.3), 0px 1px 3px 1px rgba(60, 64, 67, 0.15);\n",
              "      fill: #174EA6;\n",
              "    }\n",
              "\n",
              "    [theme=dark] .colab-df-convert {\n",
              "      background-color: #3B4455;\n",
              "      fill: #D2E3FC;\n",
              "    }\n",
              "\n",
              "    [theme=dark] .colab-df-convert:hover {\n",
              "      background-color: #434B5C;\n",
              "      box-shadow: 0px 1px 3px 1px rgba(0, 0, 0, 0.15);\n",
              "      filter: drop-shadow(0px 1px 2px rgba(0, 0, 0, 0.3));\n",
              "      fill: #FFFFFF;\n",
              "    }\n",
              "  </style>\n",
              "\n",
              "      <script>\n",
              "        const buttonEl =\n",
              "          document.querySelector('#df-709f6e2f-486b-440f-b717-2c7c41f383cc button.colab-df-convert');\n",
              "        buttonEl.style.display =\n",
              "          google.colab.kernel.accessAllowed ? 'block' : 'none';\n",
              "\n",
              "        async function convertToInteractive(key) {\n",
              "          const element = document.querySelector('#df-709f6e2f-486b-440f-b717-2c7c41f383cc');\n",
              "          const dataTable =\n",
              "            await google.colab.kernel.invokeFunction('convertToInteractive',\n",
              "                                                     [key], {});\n",
              "          if (!dataTable) return;\n",
              "\n",
              "          const docLinkHtml = 'Like what you see? Visit the ' +\n",
              "            '<a target=\"_blank\" href=https://colab.research.google.com/notebooks/data_table.ipynb>data table notebook</a>'\n",
              "            + ' to learn more about interactive tables.';\n",
              "          element.innerHTML = '';\n",
              "          dataTable['output_type'] = 'display_data';\n",
              "          await google.colab.output.renderOutput(dataTable, element);\n",
              "          const docLink = document.createElement('div');\n",
              "          docLink.innerHTML = docLinkHtml;\n",
              "          element.appendChild(docLink);\n",
              "        }\n",
              "      </script>\n",
              "    </div>\n",
              "  </div>\n",
              "  "
            ]
          },
          "metadata": {},
          "execution_count": 10
        }
      ]
    },
    {
      "cell_type": "code",
      "source": [
        "sns.heatmap(corr, annot = True)"
      ],
      "metadata": {
        "id": "a9Iy_FE4v_ku",
        "colab": {
          "base_uri": "https://localhost:8080/",
          "height": 396
        },
        "outputId": "b0fe8f89-c8d7-412a-cbed-059a8bc7ed9d"
      },
      "execution_count": 11,
      "outputs": [
        {
          "output_type": "execute_result",
          "data": {
            "text/plain": [
              "<Axes: >"
            ]
          },
          "metadata": {},
          "execution_count": 11
        },
        {
          "output_type": "display_data",
          "data": {
            "text/plain": [
              "<Figure size 432x288 with 2 Axes>"
            ],
            "image/png": "[encoded data removed]"
          },
          "metadata": {
            "needs_background": "light"
          }
        }
      ]
    },
    {
      "cell_type": "code",
      "source": [
        "sns.set(style='whitegrid')\n",
        "sns.pairplot(final_df)\n",
        "plt.show()"
      ],
      "metadata": {
        "colab": {
          "base_uri": "https://localhost:8080/",
          "height": 1000
        },
        "id": "vW_O863ULJ-I",
        "outputId": "c419bacd-0365-4e95-bb88-b4238d16d27c"
      },
      "execution_count": 12,
      "outputs": [
        {
          "output_type": "display_data",
          "data": {
            "text/plain": [
              "<Figure size 1260x1260 with 56 Axes>"
            ],
            "image/png": "[encoded data removed]"
          },
          "metadata": {}
        }
      ]
    },
    {
      "cell_type": "markdown",
      "source": [
        "### 다중 선형 회귀분석"
      ],
      "metadata": {
        "id": "eL3-YcOq9582"
      }
    },
    {
      "cell_type": "code",
      "source": [
        "from sklearn.model_selection import train_test_split\n",
        "x_train, x_test, y_train, y_test = train_test_split(x, y, test_size = 0.3, random_state = 10)"
      ],
      "metadata": {
        "id": "_yw-AxDx98lw"
      },
      "execution_count": 13,
      "outputs": []
    },
    {
      "cell_type": "code",
      "source": [
        "from sklearn.linear_model import LinearRegression\n",
        "lr = LinearRegression()\n",
        "\n",
        "lr.fit(x_train, y_train)\n",
        "\n",
        "r_square = lr.score(x_test, y_test)\n",
        "print('R-square: ', r_square)\n",
        "print('\\n')\n",
        "\n",
        "print('x 변수의 기울기: ', lr.coef_)\n",
        "print('\\n')\n",
        "\n",
        "print('절편:', lr.intercept_)\n",
        "print('\\n')"
      ],
      "metadata": {
        "colab": {
          "base_uri": "https://localhost:8080/"
        },
        "id": "El7-w6PZ99Aq",
        "outputId": "d4273273-ba3f-4914-b917-b021b1ed7b70"
      },
      "execution_count": 14,
      "outputs": [
        {
          "output_type": "stream",
          "name": "stdout",
          "text": [
            "R-square:  -1.6724651278267268\n",
            "\n",
            "\n",
            "x 변수의 기울기:  [ 0.12428022 -0.54685799  0.56071719 -0.18380031  0.37134977 -0.14011754]\n",
            "\n",
            "\n",
            "절편: 0.15056448918184537\n",
            "\n",
            "\n"
          ]
        }
      ]
    },
    {
      "cell_type": "code",
      "source": [
        "import pandas as pd\n",
        "import statsmodels.formula.api as sm\n",
        "result = sm.ols(formula = 'COVID_19 ~ Social_welfare_facilities +\tpharmacy + hospital +\tpopulation_density + elderly_person + disorder', data = x_scaled ).fit()"
      ],
      "metadata": {
        "id": "OVOmA0Ua9899"
      },
      "execution_count": 15,
      "outputs": []
    },
    {
      "cell_type": "code",
      "source": [
        "result.summary()"
      ],
      "metadata": {
        "id": "Za2QOgOxcjYu",
        "outputId": "c3f5cb8c-d52a-4c5f-f1ea-c40b92949c52",
        "colab": {
          "base_uri": "https://localhost:8080/",
          "height": 582
        }
      },
      "execution_count": 17,
      "outputs": [
        {
          "output_type": "stream",
          "name": "stderr",
          "text": [
            "/usr/local/lib/python3.9/dist-packages/scipy/stats/_stats_py.py:1736: UserWarning: kurtosistest only valid for n>=20 ... continuing anyway, n=8\n",
            "  warnings.warn(\"kurtosistest only valid for n>=20 ... continuing \"\n"
          ]
        },
        {
          "output_type": "execute_result",
          "data": {
            "text/plain": [
              "<class 'statsmodels.iolib.summary.Summary'>\n",
              "\"\"\"\n",
              "                            OLS Regression Results                            \n",
              "==============================================================================\n",
              "Dep. Variable:               COVID_19   R-squared:                       0.998\n",
              "Model:                            OLS   Adj. R-squared:                  0.985\n",
              "Method:                 Least Squares   F-statistic:                     76.58\n",
              "Date:                Thu, 23 Mar 2023   Prob (F-statistic):             0.0873\n",
              "Time:                        07:50:08   Log-Likelihood:                 22.714\n",
              "No. Observations:                   8   AIC:                            -31.43\n",
              "Df Residuals:                       1   BIC:                            -30.87\n",
              "Df Model:                           6                                         \n",
              "Covariance Type:            nonrobust                                         \n",
              "=============================================================================================\n",
              "                                coef    std err          t      P>|t|      [0.025      0.975]\n",
              "---------------------------------------------------------------------------------------------\n",
              "Intercept                    -0.1766      0.056     -3.126      0.197      -0.894       0.541\n",
              "Social_welfare_facilities     0.2141      0.247      0.866      0.546      -2.926       3.354\n",
              "pharmacy                      0.3861      0.197      1.960      0.300      -2.116       2.889\n",
              "hospital                      0.6259      0.119      5.244      0.120      -0.891       2.142\n",
              "population_density            0.0469      0.046      1.011      0.496      -0.543       0.637\n",
              "elderly_person                0.9532      0.215      4.435      0.141      -1.778       3.684\n",
              "disorder                     -1.1252      0.225     -4.995      0.126      -3.988       1.737\n",
              "==============================================================================\n",
              "Omnibus:                        1.142   Durbin-Watson:                   0.870\n",
              "Prob(Omnibus):                  0.565   Jarque-Bera (JB):                0.802\n",
              "Skew:                           0.550   Prob(JB):                        0.670\n",
              "Kurtosis:                       1.907   Cond. No.                         42.9\n",
              "==============================================================================\n",
              "\n",
              "Notes:\n",
              "[1] Standard Errors assume that the covariance matrix of the errors is correctly specified.\n",
              "\"\"\""
            ],
            "text/html": [
              "<table class=\"simpletable\">\n",
              "<caption>OLS Regression Results</caption>\n",
              "<tr>\n",
              "  <th>Dep. Variable:</th>        <td>COVID_19</td>     <th>  R-squared:         </th> <td>   0.998</td>\n",
              "</tr>\n",
              "<tr>\n",
              "  <th>Model:</th>                   <td>OLS</td>       <th>  Adj. R-squared:    </th> <td>   0.985</td>\n",
              "</tr>\n",
              "<tr>\n",
              "  <th>Method:</th>             <td>Least Squares</td>  <th>  F-statistic:       </th> <td>   76.58</td>\n",
              "</tr>\n",
              "<tr>\n",
              "  <th>Date:</th>             <td>Thu, 23 Mar 2023</td> <th>  Prob (F-statistic):</th>  <td>0.0873</td> \n",
              "</tr>\n",
              "<tr>\n",
              "  <th>Time:</th>                 <td>07:50:08</td>     <th>  Log-Likelihood:    </th> <td>  22.714</td>\n",
              "</tr>\n",
              "<tr>\n",
              "  <th>No. Observations:</th>      <td>     8</td>      <th>  AIC:               </th> <td>  -31.43</td>\n",
              "</tr>\n",
              "<tr>\n",
              "  <th>Df Residuals:</th>          <td>     1</td>      <th>  BIC:               </th> <td>  -30.87</td>\n",
              "</tr>\n",
              "<tr>\n",
              "  <th>Df Model:</th>              <td>     6</td>      <th>                     </th>     <td> </td>   \n",
              "</tr>\n",
              "<tr>\n",
              "  <th>Covariance Type:</th>      <td>nonrobust</td>    <th>                     </th>     <td> </td>   \n",
              "</tr>\n",
              "</table>\n",
              "<table class=\"simpletable\">\n",
              "<tr>\n",
              "              <td></td>                 <th>coef</th>     <th>std err</th>      <th>t</th>      <th>P>|t|</th>  <th>[0.025</th>    <th>0.975]</th>  \n",
              "</tr>\n",
              "<tr>\n",
              "  <th>Intercept</th>                 <td>   -0.1766</td> <td>    0.056</td> <td>   -3.126</td> <td> 0.197</td> <td>   -0.894</td> <td>    0.541</td>\n",
              "</tr>\n",
              "<tr>\n",
              "  <th>Social_welfare_facilities</th> <td>    0.2141</td> <td>    0.247</td> <td>    0.866</td> <td> 0.546</td> <td>   -2.926</td> <td>    3.354</td>\n",
              "</tr>\n",
              "<tr>\n",
              "  <th>pharmacy</th>                  <td>    0.3861</td> <td>    0.197</td> <td>    1.960</td> <td> 0.300</td> <td>   -2.116</td> <td>    2.889</td>\n",
              "</tr>\n",
              "<tr>\n",
              "  <th>hospital</th>                  <td>    0.6259</td> <td>    0.119</td> <td>    5.244</td> <td> 0.120</td> <td>   -0.891</td> <td>    2.142</td>\n",
              "</tr>\n",
              "<tr>\n",
              "  <th>population_density</th>        <td>    0.0469</td> <td>    0.046</td> <td>    1.011</td> <td> 0.496</td> <td>   -0.543</td> <td>    0.637</td>\n",
              "</tr>\n",
              "<tr>\n",
              "  <th>elderly_person</th>            <td>    0.9532</td> <td>    0.215</td> <td>    4.435</td> <td> 0.141</td> <td>   -1.778</td> <td>    3.684</td>\n",
              "</tr>\n",
              "<tr>\n",
              "  <th>disorder</th>                  <td>   -1.1252</td> <td>    0.225</td> <td>   -4.995</td> <td> 0.126</td> <td>   -3.988</td> <td>    1.737</td>\n",
              "</tr>\n",
              "</table>\n",
              "<table class=\"simpletable\">\n",
              "<tr>\n",
              "  <th>Omnibus:</th>       <td> 1.142</td> <th>  Durbin-Watson:     </th> <td>   0.870</td>\n",
              "</tr>\n",
              "<tr>\n",
              "  <th>Prob(Omnibus):</th> <td> 0.565</td> <th>  Jarque-Bera (JB):  </th> <td>   0.802</td>\n",
              "</tr>\n",
              "<tr>\n",
              "  <th>Skew:</th>          <td> 0.550</td> <th>  Prob(JB):          </th> <td>   0.670</td>\n",
              "</tr>\n",
              "<tr>\n",
              "  <th>Kurtosis:</th>      <td> 1.907</td> <th>  Cond. No.          </th> <td>    42.9</td>\n",
              "</tr>\n",
              "</table><br/><br/>Notes:<br/>[1] Standard Errors assume that the covariance matrix of the errors is correctly specified."
            ]
          },
          "metadata": {},
          "execution_count": 17
        }
      ]
    },
    {
      "cell_type": "code",
      "source": [
        "print('절편과 기울기')\n",
        "print(result.params)\n",
        "print()\n",
        "print('유의확률: ', result.pvalues)\n",
        "print()\n",
        "\n",
        "print('결정계수: ', result.rsquared)\n",
        "print('예측', result.predict())"
      ],
      "metadata": {
        "colab": {
          "base_uri": "https://localhost:8080/"
        },
        "id": "cqsDFUR8987a",
        "outputId": "74e9d65a-9754-4e75-eb41-db2495663c9d"
      },
      "execution_count": 16,
      "outputs": [
        {
          "output_type": "stream",
          "name": "stdout",
          "text": [
            "절편과 기울기\n",
            "Intercept                   -0.176621\n",
            "Social_welfare_facilities    0.214052\n",
            "pharmacy                     0.386063\n",
            "hospital                     0.625899\n",
            "population_density           0.046941\n",
            "elderly_person               0.953234\n",
            "disorder                    -1.125235\n",
            "dtype: float64\n",
            "\n",
            "유의확률:  Intercept                    0.197089\n",
            "Social_welfare_facilities    0.545595\n",
            "pharmacy                     0.300320\n",
            "hospital                     0.119949\n",
            "population_density           0.496395\n",
            "elderly_person               0.141174\n",
            "disorder                     0.125799\n",
            "dtype: float64\n",
            "\n",
            "결정계수:  0.9978283468008353\n",
            "예측 [0.09387125 0.32293433 1.00509652 0.31885827 0.02535647 0.10284502\n",
            " 0.00792837 0.32499466]\n"
          ]
        }
      ]
    },
    {
      "cell_type": "code",
      "source": [],
      "metadata": {
        "id": "8EMJdI_s982V"
      },
      "execution_count": null,
      "outputs": []
    }
  ]
}