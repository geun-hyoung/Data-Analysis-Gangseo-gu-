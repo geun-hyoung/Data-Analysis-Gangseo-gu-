{
  "nbformat": 4,
  "nbformat_minor": 0,
  "metadata": {
    "colab": {
      "provenance": [],
      "include_colab_link": true
    },
    "kernelspec": {
      "name": "python3",
      "display_name": "Python 3"
    },
    "language_info": {
      "name": "python"
    }
  },
  "cells": [
    {
      "cell_type": "markdown",
      "metadata": {
        "id": "view-in-github",
        "colab_type": "text"
      },
      "source": [
        "<a href=\"https://colab.research.google.com/github/geun-hyoung/DataAnalysis_Gangseo-gu/blob/main/Correlation%26regression%20analysis.ipynb\" target=\"_parent\"><img src=\"https://colab.research.google.com/assets/colab-badge.svg\" alt=\"Open In Colab\"/></a>"
      ]
    },
    {
      "cell_type": "markdown",
      "source": [
        "## 내부 라이브러리"
      ],
      "metadata": {
        "id": "EFkyZk-yzF6e"
      }
    },
    {
      "cell_type": "code",
      "source": [
        "from google.colab import drive\n",
        "drive.mount('/content/drive') # Connect to drive\n",
        "\n",
        "import pandas as pd\n",
        "import numpy as np\n",
        "\n",
        "import seaborn as sns\n",
        "\n",
        "import matplotlib.pyplot as plt"
      ],
      "metadata": {
        "colab": {
          "base_uri": "https://localhost:8080/"
        },
        "id": "pH6jlYjbzMou",
        "outputId": "cdc0dcbf-7910-4e9e-ada9-8209c0a1bd38"
      },
      "execution_count": 68,
      "outputs": [
        {
          "output_type": "stream",
          "name": "stdout",
          "text": [
            "Drive already mounted at /content/drive; to attempt to forcibly remount, call drive.mount(\"/content/drive\", force_remount=True).\n"
          ]
        }
      ]
    },
    {
      "cell_type": "markdown",
      "source": [
        "### 데이터 로드 및 전처리"
      ],
      "metadata": {
        "id": "WhOuL8t9pgKP"
      }
    },
    {
      "cell_type": "code",
      "source": [
        "final_df = pd.read_csv('/content/drive/MyDrive/강서구공모전/fianl_usingdata.csv', encoding = 'cp949')"
      ],
      "metadata": {
        "id": "qmtcRmwfpnVl"
      },
      "execution_count": 69,
      "outputs": []
    },
    {
      "cell_type": "code",
      "source": [
        "df_1 = final_df.drop(['area'], axis = 1)    # area는 행정동으로 인덱스 값으로 대체 후 전처리"
      ],
      "metadata": {
        "id": "RID2FOOSqyZD"
      },
      "execution_count": 70,
      "outputs": []
    },
    {
      "cell_type": "code",
      "source": [
        "df_1.head()"
      ],
      "metadata": {
        "colab": {
          "base_uri": "https://localhost:8080/",
          "height": 270
        },
        "id": "vkzFuXJ885KG",
        "outputId": "b54f51ce-d8ac-48e6-9ec9-092907406ed7"
      },
      "execution_count": 71,
      "outputs": [
        {
          "output_type": "execute_result",
          "data": {
            "text/plain": [
              "   COVID_19  Social_welfare_facilities  pharmacy  hospital  \\\n",
              "0      5417                          1        14         6   \n",
              "1      8569                         33        37        12   \n",
              "2     18515                         76        89         6   \n",
              "3      8238                         19        29        20   \n",
              "4      3916                         10        35         1   \n",
              "\n",
              "   population_density  elderly_person  disorder  \n",
              "0         23924.00000        0.175549  0.025397  \n",
              "1         31860.00000        0.265684  0.070133  \n",
              "2         32520.58824        0.255945  0.041920  \n",
              "3         10151.45161        0.269628  0.078562  \n",
              "4         12325.00000        0.213701  0.041661  "
            ],
            "text/html": [
              "\n",
              "  <div id=\"df-23e0c7d6-41dd-459d-9382-d1ab94b37ee1\">\n",
              "    <div class=\"colab-df-container\">\n",
              "      <div>\n",
              "<style scoped>\n",
              "    .dataframe tbody tr th:only-of-type {\n",
              "        vertical-align: middle;\n",
              "    }\n",
              "\n",
              "    .dataframe tbody tr th {\n",
              "        vertical-align: top;\n",
              "    }\n",
              "\n",
              "    .dataframe thead th {\n",
              "        text-align: right;\n",
              "    }\n",
              "</style>\n",
              "<table border=\"1\" class=\"dataframe\">\n",
              "  <thead>\n",
              "    <tr style=\"text-align: right;\">\n",
              "      <th></th>\n",
              "      <th>COVID_19</th>\n",
              "      <th>Social_welfare_facilities</th>\n",
              "      <th>pharmacy</th>\n",
              "      <th>hospital</th>\n",
              "      <th>population_density</th>\n",
              "      <th>elderly_person</th>\n",
              "      <th>disorder</th>\n",
              "    </tr>\n",
              "  </thead>\n",
              "  <tbody>\n",
              "    <tr>\n",
              "      <th>0</th>\n",
              "      <td>5417</td>\n",
              "      <td>1</td>\n",
              "      <td>14</td>\n",
              "      <td>6</td>\n",
              "      <td>23924.00000</td>\n",
              "      <td>0.175549</td>\n",
              "      <td>0.025397</td>\n",
              "    </tr>\n",
              "    <tr>\n",
              "      <th>1</th>\n",
              "      <td>8569</td>\n",
              "      <td>33</td>\n",
              "      <td>37</td>\n",
              "      <td>12</td>\n",
              "      <td>31860.00000</td>\n",
              "      <td>0.265684</td>\n",
              "      <td>0.070133</td>\n",
              "    </tr>\n",
              "    <tr>\n",
              "      <th>2</th>\n",
              "      <td>18515</td>\n",
              "      <td>76</td>\n",
              "      <td>89</td>\n",
              "      <td>6</td>\n",
              "      <td>32520.58824</td>\n",
              "      <td>0.255945</td>\n",
              "      <td>0.041920</td>\n",
              "    </tr>\n",
              "    <tr>\n",
              "      <th>3</th>\n",
              "      <td>8238</td>\n",
              "      <td>19</td>\n",
              "      <td>29</td>\n",
              "      <td>20</td>\n",
              "      <td>10151.45161</td>\n",
              "      <td>0.269628</td>\n",
              "      <td>0.078562</td>\n",
              "    </tr>\n",
              "    <tr>\n",
              "      <th>4</th>\n",
              "      <td>3916</td>\n",
              "      <td>10</td>\n",
              "      <td>35</td>\n",
              "      <td>1</td>\n",
              "      <td>12325.00000</td>\n",
              "      <td>0.213701</td>\n",
              "      <td>0.041661</td>\n",
              "    </tr>\n",
              "  </tbody>\n",
              "</table>\n",
              "</div>\n",
              "      <button class=\"colab-df-convert\" onclick=\"convertToInteractive('df-23e0c7d6-41dd-459d-9382-d1ab94b37ee1')\"\n",
              "              title=\"Convert this dataframe to an interactive table.\"\n",
              "              style=\"display:none;\">\n",
              "        \n",
              "  <svg xmlns=\"http://www.w3.org/2000/svg\" height=\"24px\"viewBox=\"0 0 24 24\"\n",
              "       width=\"24px\">\n",
              "    <path d=\"M0 0h24v24H0V0z\" fill=\"none\"/>\n",
              "    <path d=\"M18.56 5.44l.94 2.06.94-2.06 2.06-.94-2.06-.94-.94-2.06-.94 2.06-2.06.94zm-11 1L8.5 8.5l.94-2.06 2.06-.94-2.06-.94L8.5 2.5l-.94 2.06-2.06.94zm10 10l.94 2.06.94-2.06 2.06-.94-2.06-.94-.94-2.06-.94 2.06-2.06.94z\"/><path d=\"M17.41 7.96l-1.37-1.37c-.4-.4-.92-.59-1.43-.59-.52 0-1.04.2-1.43.59L10.3 9.45l-7.72 7.72c-.78.78-.78 2.05 0 2.83L4 21.41c.39.39.9.59 1.41.59.51 0 1.02-.2 1.41-.59l7.78-7.78 2.81-2.81c.8-.78.8-2.07 0-2.86zM5.41 20L4 18.59l7.72-7.72 1.47 1.35L5.41 20z\"/>\n",
              "  </svg>\n",
              "      </button>\n",
              "      \n",
              "  <style>\n",
              "    .colab-df-container {\n",
              "      display:flex;\n",
              "      flex-wrap:wrap;\n",
              "      gap: 12px;\n",
              "    }\n",
              "\n",
              "    .colab-df-convert {\n",
              "      background-color: #E8F0FE;\n",
              "      border: none;\n",
              "      border-radius: 50%;\n",
              "      cursor: pointer;\n",
              "      display: none;\n",
              "      fill: #1967D2;\n",
              "      height: 32px;\n",
              "      padding: 0 0 0 0;\n",
              "      width: 32px;\n",
              "    }\n",
              "\n",
              "    .colab-df-convert:hover {\n",
              "      background-color: #E2EBFA;\n",
              "      box-shadow: 0px 1px 2px rgba(60, 64, 67, 0.3), 0px 1px 3px 1px rgba(60, 64, 67, 0.15);\n",
              "      fill: #174EA6;\n",
              "    }\n",
              "\n",
              "    [theme=dark] .colab-df-convert {\n",
              "      background-color: #3B4455;\n",
              "      fill: #D2E3FC;\n",
              "    }\n",
              "\n",
              "    [theme=dark] .colab-df-convert:hover {\n",
              "      background-color: #434B5C;\n",
              "      box-shadow: 0px 1px 3px 1px rgba(0, 0, 0, 0.15);\n",
              "      filter: drop-shadow(0px 1px 2px rgba(0, 0, 0, 0.3));\n",
              "      fill: #FFFFFF;\n",
              "    }\n",
              "  </style>\n",
              "\n",
              "      <script>\n",
              "        const buttonEl =\n",
              "          document.querySelector('#df-23e0c7d6-41dd-459d-9382-d1ab94b37ee1 button.colab-df-convert');\n",
              "        buttonEl.style.display =\n",
              "          google.colab.kernel.accessAllowed ? 'block' : 'none';\n",
              "\n",
              "        async function convertToInteractive(key) {\n",
              "          const element = document.querySelector('#df-23e0c7d6-41dd-459d-9382-d1ab94b37ee1');\n",
              "          const dataTable =\n",
              "            await google.colab.kernel.invokeFunction('convertToInteractive',\n",
              "                                                     [key], {});\n",
              "          if (!dataTable) return;\n",
              "\n",
              "          const docLinkHtml = 'Like what you see? Visit the ' +\n",
              "            '<a target=\"_blank\" href=https://colab.research.google.com/notebooks/data_table.ipynb>data table notebook</a>'\n",
              "            + ' to learn more about interactive tables.';\n",
              "          element.innerHTML = '';\n",
              "          dataTable['output_type'] = 'display_data';\n",
              "          await google.colab.output.renderOutput(dataTable, element);\n",
              "          const docLink = document.createElement('div');\n",
              "          docLink.innerHTML = docLinkHtml;\n",
              "          element.appendChild(docLink);\n",
              "        }\n",
              "      </script>\n",
              "    </div>\n",
              "  </div>\n",
              "  "
            ]
          },
          "metadata": {},
          "execution_count": 71
        }
      ]
    },
    {
      "cell_type": "code",
      "source": [
        "from sklearn.preprocessing import StandardScaler\n",
        "scaler = StandardScaler()\n",
        "x_scaled = pd.DataFrame(scaler.fit_transform(df_1), \n",
        "                        columns = ['COVID_19', 'Social_welfare_facilities', 'pharmacy', 'hospital',\n",
        "                                   'population_density', 'elderly_person', 'disorder'])"
      ],
      "metadata": {
        "id": "uHtnpulL5dZe"
      },
      "execution_count": 78,
      "outputs": []
    },
    {
      "cell_type": "code",
      "source": [
        "x_scaled"
      ],
      "metadata": {
        "colab": {
          "base_uri": "https://localhost:8080/",
          "height": 364
        },
        "id": "fqFXlCNN80nc",
        "outputId": "50916fe4-f6bb-4647-a163-bf819acf4746"
      },
      "execution_count": 79,
      "outputs": [
        {
          "output_type": "execute_result",
          "data": {
            "text/plain": [
              "   COVID_19  Social_welfare_facilities  pharmacy  hospital  \\\n",
              "0 -0.516967                  -0.931787 -0.692458 -0.102083   \n",
              "1  0.181893                   0.463169  0.237559  0.877917   \n",
              "2  2.387116                   2.337640  2.340205 -0.102083   \n",
              "3  0.108504                  -0.147124 -0.085925  2.184584   \n",
              "4 -0.849768                  -0.539455  0.156688 -0.918750   \n",
              "5 -0.628714                  -0.888194 -1.137249 -1.082083   \n",
              "6 -0.906528                  -0.539455 -0.813765 -0.265417   \n",
              "7  0.224463                   0.245207 -0.005054 -0.592083   \n",
              "\n",
              "   population_density  elderly_person  disorder  \n",
              "0            0.417046       -1.726666 -1.315893  \n",
              "1            1.118780        0.819311  1.184564  \n",
              "2            1.177192        0.544204 -0.392353  \n",
              "3           -0.800779        0.930718  1.655701  \n",
              "4           -0.608585       -0.649027 -0.406847  \n",
              "5            1.089777       -0.730282 -1.119381  \n",
              "6           -1.446845       -0.569052 -0.289575  \n",
              "7           -0.946587        1.380794  0.683782  "
            ],
            "text/html": [
              "\n",
              "  <div id=\"df-a617a2b3-d346-4d54-9ba1-b5ae8eb5dbd9\">\n",
              "    <div class=\"colab-df-container\">\n",
              "      <div>\n",
              "<style scoped>\n",
              "    .dataframe tbody tr th:only-of-type {\n",
              "        vertical-align: middle;\n",
              "    }\n",
              "\n",
              "    .dataframe tbody tr th {\n",
              "        vertical-align: top;\n",
              "    }\n",
              "\n",
              "    .dataframe thead th {\n",
              "        text-align: right;\n",
              "    }\n",
              "</style>\n",
              "<table border=\"1\" class=\"dataframe\">\n",
              "  <thead>\n",
              "    <tr style=\"text-align: right;\">\n",
              "      <th></th>\n",
              "      <th>COVID_19</th>\n",
              "      <th>Social_welfare_facilities</th>\n",
              "      <th>pharmacy</th>\n",
              "      <th>hospital</th>\n",
              "      <th>population_density</th>\n",
              "      <th>elderly_person</th>\n",
              "      <th>disorder</th>\n",
              "    </tr>\n",
              "  </thead>\n",
              "  <tbody>\n",
              "    <tr>\n",
              "      <th>0</th>\n",
              "      <td>-0.516967</td>\n",
              "      <td>-0.931787</td>\n",
              "      <td>-0.692458</td>\n",
              "      <td>-0.102083</td>\n",
              "      <td>0.417046</td>\n",
              "      <td>-1.726666</td>\n",
              "      <td>-1.315893</td>\n",
              "    </tr>\n",
              "    <tr>\n",
              "      <th>1</th>\n",
              "      <td>0.181893</td>\n",
              "      <td>0.463169</td>\n",
              "      <td>0.237559</td>\n",
              "      <td>0.877917</td>\n",
              "      <td>1.118780</td>\n",
              "      <td>0.819311</td>\n",
              "      <td>1.184564</td>\n",
              "    </tr>\n",
              "    <tr>\n",
              "      <th>2</th>\n",
              "      <td>2.387116</td>\n",
              "      <td>2.337640</td>\n",
              "      <td>2.340205</td>\n",
              "      <td>-0.102083</td>\n",
              "      <td>1.177192</td>\n",
              "      <td>0.544204</td>\n",
              "      <td>-0.392353</td>\n",
              "    </tr>\n",
              "    <tr>\n",
              "      <th>3</th>\n",
              "      <td>0.108504</td>\n",
              "      <td>-0.147124</td>\n",
              "      <td>-0.085925</td>\n",
              "      <td>2.184584</td>\n",
              "      <td>-0.800779</td>\n",
              "      <td>0.930718</td>\n",
              "      <td>1.655701</td>\n",
              "    </tr>\n",
              "    <tr>\n",
              "      <th>4</th>\n",
              "      <td>-0.849768</td>\n",
              "      <td>-0.539455</td>\n",
              "      <td>0.156688</td>\n",
              "      <td>-0.918750</td>\n",
              "      <td>-0.608585</td>\n",
              "      <td>-0.649027</td>\n",
              "      <td>-0.406847</td>\n",
              "    </tr>\n",
              "    <tr>\n",
              "      <th>5</th>\n",
              "      <td>-0.628714</td>\n",
              "      <td>-0.888194</td>\n",
              "      <td>-1.137249</td>\n",
              "      <td>-1.082083</td>\n",
              "      <td>1.089777</td>\n",
              "      <td>-0.730282</td>\n",
              "      <td>-1.119381</td>\n",
              "    </tr>\n",
              "    <tr>\n",
              "      <th>6</th>\n",
              "      <td>-0.906528</td>\n",
              "      <td>-0.539455</td>\n",
              "      <td>-0.813765</td>\n",
              "      <td>-0.265417</td>\n",
              "      <td>-1.446845</td>\n",
              "      <td>-0.569052</td>\n",
              "      <td>-0.289575</td>\n",
              "    </tr>\n",
              "    <tr>\n",
              "      <th>7</th>\n",
              "      <td>0.224463</td>\n",
              "      <td>0.245207</td>\n",
              "      <td>-0.005054</td>\n",
              "      <td>-0.592083</td>\n",
              "      <td>-0.946587</td>\n",
              "      <td>1.380794</td>\n",
              "      <td>0.683782</td>\n",
              "    </tr>\n",
              "  </tbody>\n",
              "</table>\n",
              "</div>\n",
              "      <button class=\"colab-df-convert\" onclick=\"convertToInteractive('df-a617a2b3-d346-4d54-9ba1-b5ae8eb5dbd9')\"\n",
              "              title=\"Convert this dataframe to an interactive table.\"\n",
              "              style=\"display:none;\">\n",
              "        \n",
              "  <svg xmlns=\"http://www.w3.org/2000/svg\" height=\"24px\"viewBox=\"0 0 24 24\"\n",
              "       width=\"24px\">\n",
              "    <path d=\"M0 0h24v24H0V0z\" fill=\"none\"/>\n",
              "    <path d=\"M18.56 5.44l.94 2.06.94-2.06 2.06-.94-2.06-.94-.94-2.06-.94 2.06-2.06.94zm-11 1L8.5 8.5l.94-2.06 2.06-.94-2.06-.94L8.5 2.5l-.94 2.06-2.06.94zm10 10l.94 2.06.94-2.06 2.06-.94-2.06-.94-.94-2.06-.94 2.06-2.06.94z\"/><path d=\"M17.41 7.96l-1.37-1.37c-.4-.4-.92-.59-1.43-.59-.52 0-1.04.2-1.43.59L10.3 9.45l-7.72 7.72c-.78.78-.78 2.05 0 2.83L4 21.41c.39.39.9.59 1.41.59.51 0 1.02-.2 1.41-.59l7.78-7.78 2.81-2.81c.8-.78.8-2.07 0-2.86zM5.41 20L4 18.59l7.72-7.72 1.47 1.35L5.41 20z\"/>\n",
              "  </svg>\n",
              "      </button>\n",
              "      \n",
              "  <style>\n",
              "    .colab-df-container {\n",
              "      display:flex;\n",
              "      flex-wrap:wrap;\n",
              "      gap: 12px;\n",
              "    }\n",
              "\n",
              "    .colab-df-convert {\n",
              "      background-color: #E8F0FE;\n",
              "      border: none;\n",
              "      border-radius: 50%;\n",
              "      cursor: pointer;\n",
              "      display: none;\n",
              "      fill: #1967D2;\n",
              "      height: 32px;\n",
              "      padding: 0 0 0 0;\n",
              "      width: 32px;\n",
              "    }\n",
              "\n",
              "    .colab-df-convert:hover {\n",
              "      background-color: #E2EBFA;\n",
              "      box-shadow: 0px 1px 2px rgba(60, 64, 67, 0.3), 0px 1px 3px 1px rgba(60, 64, 67, 0.15);\n",
              "      fill: #174EA6;\n",
              "    }\n",
              "\n",
              "    [theme=dark] .colab-df-convert {\n",
              "      background-color: #3B4455;\n",
              "      fill: #D2E3FC;\n",
              "    }\n",
              "\n",
              "    [theme=dark] .colab-df-convert:hover {\n",
              "      background-color: #434B5C;\n",
              "      box-shadow: 0px 1px 3px 1px rgba(0, 0, 0, 0.15);\n",
              "      filter: drop-shadow(0px 1px 2px rgba(0, 0, 0, 0.3));\n",
              "      fill: #FFFFFF;\n",
              "    }\n",
              "  </style>\n",
              "\n",
              "      <script>\n",
              "        const buttonEl =\n",
              "          document.querySelector('#df-a617a2b3-d346-4d54-9ba1-b5ae8eb5dbd9 button.colab-df-convert');\n",
              "        buttonEl.style.display =\n",
              "          google.colab.kernel.accessAllowed ? 'block' : 'none';\n",
              "\n",
              "        async function convertToInteractive(key) {\n",
              "          const element = document.querySelector('#df-a617a2b3-d346-4d54-9ba1-b5ae8eb5dbd9');\n",
              "          const dataTable =\n",
              "            await google.colab.kernel.invokeFunction('convertToInteractive',\n",
              "                                                     [key], {});\n",
              "          if (!dataTable) return;\n",
              "\n",
              "          const docLinkHtml = 'Like what you see? Visit the ' +\n",
              "            '<a target=\"_blank\" href=https://colab.research.google.com/notebooks/data_table.ipynb>data table notebook</a>'\n",
              "            + ' to learn more about interactive tables.';\n",
              "          element.innerHTML = '';\n",
              "          dataTable['output_type'] = 'display_data';\n",
              "          await google.colab.output.renderOutput(dataTable, element);\n",
              "          const docLink = document.createElement('div');\n",
              "          docLink.innerHTML = docLinkHtml;\n",
              "          element.appendChild(docLink);\n",
              "        }\n",
              "      </script>\n",
              "    </div>\n",
              "  </div>\n",
              "  "
            ]
          },
          "metadata": {},
          "execution_count": 79
        }
      ]
    },
    {
      "cell_type": "code",
      "source": [
        "x = x_scaled.drop(['COVID_19'], axis = 1)\n",
        "y = x_scaled['COVID_19']"
      ],
      "metadata": {
        "id": "Wr6B1hKn8JLp"
      },
      "execution_count": 80,
      "outputs": []
    },
    {
      "cell_type": "markdown",
      "source": [
        "### 상관분석"
      ],
      "metadata": {
        "id": "RFOdWIOb8XbU"
      }
    },
    {
      "cell_type": "code",
      "source": [
        "corr = x_scaled.corr(method = 'pearson')\n",
        "corr"
      ],
      "metadata": {
        "id": "mnDyYna5tjtL",
        "outputId": "41f5cdd8-a83b-442e-f359-a0e9f167abff",
        "colab": {
          "base_uri": "https://localhost:8080/",
          "height": 332
        }
      },
      "execution_count": 81,
      "outputs": [
        {
          "output_type": "execute_result",
          "data": {
            "text/plain": [
              "                           COVID_19  Social_welfare_facilities  pharmacy  \\\n",
              "COVID_19                   1.000000                   0.961389  0.912079   \n",
              "Social_welfare_facilities  0.961389                   1.000000  0.950222   \n",
              "pharmacy                   0.912079                   0.950222  1.000000   \n",
              "hospital                   0.221820                   0.174553  0.144782   \n",
              "population_density         0.455279                   0.363503  0.331017   \n",
              "elderly_person             0.534773                   0.595987  0.471096   \n",
              "disorder                   0.200535                   0.268949  0.196701   \n",
              "\n",
              "                           hospital  population_density  elderly_person  \\\n",
              "COVID_19                   0.221820            0.455279        0.534773   \n",
              "Social_welfare_facilities  0.174553            0.363503        0.595987   \n",
              "pharmacy                   0.144782            0.331017        0.471096   \n",
              "hospital                   1.000000           -0.075692        0.449155   \n",
              "population_density        -0.075692            1.000000       -0.099088   \n",
              "elderly_person             0.449155           -0.099088        1.000000   \n",
              "disorder                   0.761050           -0.276476        0.845071   \n",
              "\n",
              "                           disorder  \n",
              "COVID_19                   0.200535  \n",
              "Social_welfare_facilities  0.268949  \n",
              "pharmacy                   0.196701  \n",
              "hospital                   0.761050  \n",
              "population_density        -0.276476  \n",
              "elderly_person             0.845071  \n",
              "disorder                   1.000000  "
            ],
            "text/html": [
              "\n",
              "  <div id=\"df-de0f4eb4-dfce-4cfb-9d2d-a897d7f616ca\">\n",
              "    <div class=\"colab-df-container\">\n",
              "      <div>\n",
              "<style scoped>\n",
              "    .dataframe tbody tr th:only-of-type {\n",
              "        vertical-align: middle;\n",
              "    }\n",
              "\n",
              "    .dataframe tbody tr th {\n",
              "        vertical-align: top;\n",
              "    }\n",
              "\n",
              "    .dataframe thead th {\n",
              "        text-align: right;\n",
              "    }\n",
              "</style>\n",
              "<table border=\"1\" class=\"dataframe\">\n",
              "  <thead>\n",
              "    <tr style=\"text-align: right;\">\n",
              "      <th></th>\n",
              "      <th>COVID_19</th>\n",
              "      <th>Social_welfare_facilities</th>\n",
              "      <th>pharmacy</th>\n",
              "      <th>hospital</th>\n",
              "      <th>population_density</th>\n",
              "      <th>elderly_person</th>\n",
              "      <th>disorder</th>\n",
              "    </tr>\n",
              "  </thead>\n",
              "  <tbody>\n",
              "    <tr>\n",
              "      <th>COVID_19</th>\n",
              "      <td>1.000000</td>\n",
              "      <td>0.961389</td>\n",
              "      <td>0.912079</td>\n",
              "      <td>0.221820</td>\n",
              "      <td>0.455279</td>\n",
              "      <td>0.534773</td>\n",
              "      <td>0.200535</td>\n",
              "    </tr>\n",
              "    <tr>\n",
              "      <th>Social_welfare_facilities</th>\n",
              "      <td>0.961389</td>\n",
              "      <td>1.000000</td>\n",
              "      <td>0.950222</td>\n",
              "      <td>0.174553</td>\n",
              "      <td>0.363503</td>\n",
              "      <td>0.595987</td>\n",
              "      <td>0.268949</td>\n",
              "    </tr>\n",
              "    <tr>\n",
              "      <th>pharmacy</th>\n",
              "      <td>0.912079</td>\n",
              "      <td>0.950222</td>\n",
              "      <td>1.000000</td>\n",
              "      <td>0.144782</td>\n",
              "      <td>0.331017</td>\n",
              "      <td>0.471096</td>\n",
              "      <td>0.196701</td>\n",
              "    </tr>\n",
              "    <tr>\n",
              "      <th>hospital</th>\n",
              "      <td>0.221820</td>\n",
              "      <td>0.174553</td>\n",
              "      <td>0.144782</td>\n",
              "      <td>1.000000</td>\n",
              "      <td>-0.075692</td>\n",
              "      <td>0.449155</td>\n",
              "      <td>0.761050</td>\n",
              "    </tr>\n",
              "    <tr>\n",
              "      <th>population_density</th>\n",
              "      <td>0.455279</td>\n",
              "      <td>0.363503</td>\n",
              "      <td>0.331017</td>\n",
              "      <td>-0.075692</td>\n",
              "      <td>1.000000</td>\n",
              "      <td>-0.099088</td>\n",
              "      <td>-0.276476</td>\n",
              "    </tr>\n",
              "    <tr>\n",
              "      <th>elderly_person</th>\n",
              "      <td>0.534773</td>\n",
              "      <td>0.595987</td>\n",
              "      <td>0.471096</td>\n",
              "      <td>0.449155</td>\n",
              "      <td>-0.099088</td>\n",
              "      <td>1.000000</td>\n",
              "      <td>0.845071</td>\n",
              "    </tr>\n",
              "    <tr>\n",
              "      <th>disorder</th>\n",
              "      <td>0.200535</td>\n",
              "      <td>0.268949</td>\n",
              "      <td>0.196701</td>\n",
              "      <td>0.761050</td>\n",
              "      <td>-0.276476</td>\n",
              "      <td>0.845071</td>\n",
              "      <td>1.000000</td>\n",
              "    </tr>\n",
              "  </tbody>\n",
              "</table>\n",
              "</div>\n",
              "      <button class=\"colab-df-convert\" onclick=\"convertToInteractive('df-de0f4eb4-dfce-4cfb-9d2d-a897d7f616ca')\"\n",
              "              title=\"Convert this dataframe to an interactive table.\"\n",
              "              style=\"display:none;\">\n",
              "        \n",
              "  <svg xmlns=\"http://www.w3.org/2000/svg\" height=\"24px\"viewBox=\"0 0 24 24\"\n",
              "       width=\"24px\">\n",
              "    <path d=\"M0 0h24v24H0V0z\" fill=\"none\"/>\n",
              "    <path d=\"M18.56 5.44l.94 2.06.94-2.06 2.06-.94-2.06-.94-.94-2.06-.94 2.06-2.06.94zm-11 1L8.5 8.5l.94-2.06 2.06-.94-2.06-.94L8.5 2.5l-.94 2.06-2.06.94zm10 10l.94 2.06.94-2.06 2.06-.94-2.06-.94-.94-2.06-.94 2.06-2.06.94z\"/><path d=\"M17.41 7.96l-1.37-1.37c-.4-.4-.92-.59-1.43-.59-.52 0-1.04.2-1.43.59L10.3 9.45l-7.72 7.72c-.78.78-.78 2.05 0 2.83L4 21.41c.39.39.9.59 1.41.59.51 0 1.02-.2 1.41-.59l7.78-7.78 2.81-2.81c.8-.78.8-2.07 0-2.86zM5.41 20L4 18.59l7.72-7.72 1.47 1.35L5.41 20z\"/>\n",
              "  </svg>\n",
              "      </button>\n",
              "      \n",
              "  <style>\n",
              "    .colab-df-container {\n",
              "      display:flex;\n",
              "      flex-wrap:wrap;\n",
              "      gap: 12px;\n",
              "    }\n",
              "\n",
              "    .colab-df-convert {\n",
              "      background-color: #E8F0FE;\n",
              "      border: none;\n",
              "      border-radius: 50%;\n",
              "      cursor: pointer;\n",
              "      display: none;\n",
              "      fill: #1967D2;\n",
              "      height: 32px;\n",
              "      padding: 0 0 0 0;\n",
              "      width: 32px;\n",
              "    }\n",
              "\n",
              "    .colab-df-convert:hover {\n",
              "      background-color: #E2EBFA;\n",
              "      box-shadow: 0px 1px 2px rgba(60, 64, 67, 0.3), 0px 1px 3px 1px rgba(60, 64, 67, 0.15);\n",
              "      fill: #174EA6;\n",
              "    }\n",
              "\n",
              "    [theme=dark] .colab-df-convert {\n",
              "      background-color: #3B4455;\n",
              "      fill: #D2E3FC;\n",
              "    }\n",
              "\n",
              "    [theme=dark] .colab-df-convert:hover {\n",
              "      background-color: #434B5C;\n",
              "      box-shadow: 0px 1px 3px 1px rgba(0, 0, 0, 0.15);\n",
              "      filter: drop-shadow(0px 1px 2px rgba(0, 0, 0, 0.3));\n",
              "      fill: #FFFFFF;\n",
              "    }\n",
              "  </style>\n",
              "\n",
              "      <script>\n",
              "        const buttonEl =\n",
              "          document.querySelector('#df-de0f4eb4-dfce-4cfb-9d2d-a897d7f616ca button.colab-df-convert');\n",
              "        buttonEl.style.display =\n",
              "          google.colab.kernel.accessAllowed ? 'block' : 'none';\n",
              "\n",
              "        async function convertToInteractive(key) {\n",
              "          const element = document.querySelector('#df-de0f4eb4-dfce-4cfb-9d2d-a897d7f616ca');\n",
              "          const dataTable =\n",
              "            await google.colab.kernel.invokeFunction('convertToInteractive',\n",
              "                                                     [key], {});\n",
              "          if (!dataTable) return;\n",
              "\n",
              "          const docLinkHtml = 'Like what you see? Visit the ' +\n",
              "            '<a target=\"_blank\" href=https://colab.research.google.com/notebooks/data_table.ipynb>data table notebook</a>'\n",
              "            + ' to learn more about interactive tables.';\n",
              "          element.innerHTML = '';\n",
              "          dataTable['output_type'] = 'display_data';\n",
              "          await google.colab.output.renderOutput(dataTable, element);\n",
              "          const docLink = document.createElement('div');\n",
              "          docLink.innerHTML = docLinkHtml;\n",
              "          element.appendChild(docLink);\n",
              "        }\n",
              "      </script>\n",
              "    </div>\n",
              "  </div>\n",
              "  "
            ]
          },
          "metadata": {},
          "execution_count": 81
        }
      ]
    },
    {
      "cell_type": "code",
      "source": [
        "sns.heatmap(corr, annot = True)"
      ],
      "metadata": {
        "id": "a9Iy_FE4v_ku",
        "colab": {
          "base_uri": "https://localhost:8080/",
          "height": 411
        },
        "outputId": "5cbdaf14-7ac2-40de-90a6-43019e4c7b83"
      },
      "execution_count": 82,
      "outputs": [
        {
          "output_type": "execute_result",
          "data": {
            "text/plain": [
              "<Axes: >"
            ]
          },
          "metadata": {},
          "execution_count": 82
        },
        {
          "output_type": "display_data",
          "data": {
            "text/plain": [
              "<Figure size 432x288 with 2 Axes>"
            ],
            "image/png": "[encoded data removed]"
          },
          "metadata": {}
        }
      ]
    },
    {
      "cell_type": "code",
      "source": [
        "sns.set(style='whitegrid')\n",
        "sns.pairplot(final_df)\n",
        "plt.show()"
      ],
      "metadata": {
        "colab": {
          "base_uri": "https://localhost:8080/",
          "height": 843
        },
        "id": "vW_O863ULJ-I",
        "outputId": "ceffbbd3-4547-48ce-d893-c4a5b7032589"
      },
      "execution_count": 83,
      "outputs": [
        {
          "output_type": "display_data",
          "data": {
            "text/plain": [
              "<Figure size 1260x1260 with 56 Axes>"
            ],
            "image/png": "[encoded data removed]"
          },
          "metadata": {}
        }
      ]
    },
    {
      "cell_type": "markdown",
      "source": [
        "### 다중 선형 회귀분석"
      ],
      "metadata": {
        "id": "eL3-YcOq9582"
      }
    },
    {
      "cell_type": "code",
      "source": [
        "from sklearn.model_selection import train_test_split\n",
        "x_train, x_test, y_train, y_test = train_test_split(x, y, test_size = 0.3, random_state = 10)"
      ],
      "metadata": {
        "id": "_yw-AxDx98lw"
      },
      "execution_count": 84,
      "outputs": []
    },
    {
      "cell_type": "code",
      "source": [
        "from sklearn.linear_model import LinearRegression\n",
        "lr = LinearRegression()\n",
        "\n",
        "lr.fit(x_train, y_train)\n",
        "\n",
        "r_square = lr.score(x_test, y_test)\n",
        "print('R-square: ', r_square)\n",
        "print('\\n')\n",
        "\n",
        "print('x 변수의 기울기: ', lr.coef_)\n",
        "print('\\n')\n",
        "\n",
        "print('절편:', lr.intercept_)\n",
        "print('\\n')"
      ],
      "metadata": {
        "colab": {
          "base_uri": "https://localhost:8080/"
        },
        "id": "El7-w6PZ99Aq",
        "outputId": "eb7cfd68-3948-4e44-e878-7265f040e895"
      },
      "execution_count": 85,
      "outputs": [
        {
          "output_type": "stream",
          "name": "stdout",
          "text": [
            "R-square:  -1.8187542166851283\n",
            "\n",
            "\n",
            "x 변수의 기울기:  [ 0.13411808 -0.54990496  0.55512883 -0.23819282  0.36580208 -0.11398309]\n",
            "\n",
            "\n",
            "절편: -0.1351482318388502\n",
            "\n",
            "\n"
          ]
        }
      ]
    },
    {
      "cell_type": "code",
      "source": [
        "import pandas as pd\n",
        "import statsmodels.formula.api as sm\n",
        "result = sm.ols(formula = 'COVID_19 ~ Social_welfare_facilities +\tpharmacy + hospital +\tpopulation_density + elderly_person + disorder', data = x_scaled ).fit()"
      ],
      "metadata": {
        "id": "OVOmA0Ua9899"
      },
      "execution_count": 89,
      "outputs": []
    },
    {
      "cell_type": "code",
      "source": [
        "print('절편과 기울기')\n",
        "print(result.params)\n",
        "print()\n",
        "print('유의확률: ', result.pvalues)\n",
        "print()\n",
        "\n",
        "print('결정계수: ', result.rsquared)\n",
        "print('예측', result.predict())"
      ],
      "metadata": {
        "colab": {
          "base_uri": "https://localhost:8080/"
        },
        "id": "cqsDFUR8987a",
        "outputId": "c837f2e5-47f4-43c0-bee4-a7b978816250"
      },
      "execution_count": 93,
      "outputs": [
        {
          "output_type": "stream",
          "name": "stdout",
          "text": [
            "절편과 기울기\n",
            "Intercept                    0.000000\n",
            "Social_welfare_facilities    0.215637\n",
            "pharmacy                     0.365656\n",
            "hospital                     0.631068\n",
            "population_density           0.058920\n",
            "elderly_person               1.010347\n",
            "disorder                    -1.247184\n",
            "dtype: float64\n",
            "\n",
            "유의확률:  Intercept                    1.000000\n",
            "Social_welfare_facilities    0.545595\n",
            "pharmacy                     0.300320\n",
            "hospital                     0.119949\n",
            "population_density           0.496395\n",
            "elderly_person               0.141174\n",
            "disorder                     0.125799\n",
            "dtype: float64\n",
            "\n",
            "결정계수:  0.9978283468008353\n",
            "예측 [-0.59734971  0.15710262  2.40390224  0.14367752 -0.823013   -0.56779331\n",
            " -0.88041498  0.16388862]\n"
          ]
        }
      ]
    },
    {
      "cell_type": "code",
      "source": [],
      "metadata": {
        "id": "8EMJdI_s982V"
      },
      "execution_count": null,
      "outputs": []
    }
  ]
}